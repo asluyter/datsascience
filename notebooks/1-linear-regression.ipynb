{
 "cells": [
  {
   "cell_type": "markdown",
   "metadata": {},
   "source": [
    "# Graduate Admissions Data Set\n",
    "dataset and context found here: \n",
    "https://www.kaggle.com/ashwathbalaji/graduate-admissions-amazing-insights \n",
    "https://towardsdatascience.com/the-complete-guide-to-linear-regression-in-python-3d3f8f06bf8\n",
    "https://www.kaggle.com/mohansacharya/graduate-admissions\n",
    "## Context\n",
    "This dataset is created for prediction of Graduate Admissions from an Indian perspective.\n",
    "\n",
    "## Content\n",
    "The dataset contains several parameters which are considered important during the application for Masters Programs. The parameters included are : 1. GRE Scores ( out of 340 ) 2. TOEFL Scores ( out of 120 ) 3. University Rating ( out of 5 ) 4. Statement of Purpose and Letter of Recommendation Strength ( out of 5 ) 5. Undergraduate GPA ( out of 10 ) 6. Research Experience ( either 0 or 1 ) 7. Chance of Admit ( ranging from 0 to 1 )\n",
    "\n",
    "## Acknowledgements\n",
    "This dataset is inspired by the UCLA Graduate Dataset. The test scores and GPA are in the older format. The dataset is owned by Mohan S Acharya.\n",
    "\n",
    "## Inspiration\n",
    "This dataset was built with the purpose of helping students in shortlisting universities with their profiles. The predicted output gives them a fair idea about their chances for a particular university.\n",
    "\n",
    "## Citation\n",
    "Please cite the following if you are interested in using the dataset : Mohan S Acharya, Asfia Armaan, Aneeta S Antony : A Comparison of Regression Models for Prediction of Graduate Admissions, IEEE International Conference on Computational Intelligence in Data Science 2019\n",
    "\n",
    "I would like to thank all of you for contributing to this dataset through discussions and questions. I am in awe of the number of kernels built on this dataset. Some results and visualisations are fantastic and makes me a proud owner of the dataset. Keep em' coming! Thank You."
   ]
  },
  {
   "cell_type": "code",
   "execution_count": null,
   "metadata": {
    "scrolled": true
   },
   "outputs": [],
   "source": [
    "# Install a pip package in the current Jupyter kernel\n",
    "# First we will make sure that the python environment has the correct packages installed for this notebook\n",
    "import sys\n",
    "!{sys.executable} -m pip install pandas\n",
    "!{sys.executable} -m pip install plotly\n"
   ]
  },
  {
   "cell_type": "code",
   "execution_count": null,
   "metadata": {},
   "outputs": [],
   "source": [
    "# load packages\n",
    "import pandas as pd\n",
    "import numpy as np\n",
    "import matplotlib.pyplot as plt\n",
    "from sklearn.linear_model import LinearRegression\n",
    "from sklearn.metrics import r2_score\n",
    "import statsmodels.api as sm\n",
    "\n",
    "import seaborn as sns\n",
    "import warnings\n",
    "import statistics as st\n",
    "warnings.filterwarnings('ignore')\n",
    "%matplotlib inline"
   ]
  },
  {
   "cell_type": "code",
   "execution_count": null,
   "metadata": {},
   "outputs": [],
   "source": [
    "# read csv dataset into an object\n",
    "data = pd.read_csv(\"data/graduate-admissions/Admission_Predict.csv\")\n",
    "data.head()"
   ]
  },
  {
   "cell_type": "code",
   "execution_count": null,
   "metadata": {},
   "outputs": [],
   "source": [
    "print('Number of Rows & Columns: ' , data.shape)"
   ]
  },
  {
   "cell_type": "code",
   "execution_count": null,
   "metadata": {},
   "outputs": [],
   "source": [
    "data.describe().T[1:7]"
   ]
  },
  {
   "cell_type": "code",
   "execution_count": null,
   "metadata": {},
   "outputs": [],
   "source": [
    "# declare variables to represent the column names\n",
    "chanceOfAdmitColumn = 'Chance of Admit '\n",
    "greScoreColumn = 'GRE Score'\n",
    "\n",
    "# create and show the scatter plot of gre score vs. chance of admission\n",
    "\n",
    "plt.figure(figsize=(16, 8))\n",
    "plt.scatter(\n",
    "    data[greScoreColumn],\n",
    "    data[chanceOfAdmitColumn],\n",
    "    c='black'\n",
    ")\n",
    "plt.xlabel(\"Chance of Admission\")\n",
    "plt.ylabel(\"GRE Score\")\n",
    "plt.show()"
   ]
  },
  {
   "cell_type": "code",
   "execution_count": null,
   "metadata": {},
   "outputs": [],
   "source": [
    "# get the linear regression best fit line\n",
    "\n",
    "X = data[greScoreColumn].values.reshape(-1,1)\n",
    "Y = data[chanceOfAdmitColumn].values.reshape(-1,1)\n",
    "reg = LinearRegression()\n",
    "reg.fit(X, Y)\n",
    "print(\"The linear model is: Y = {:.5} + {:.5}X\".format(reg.intercept_[0], reg.coef_[0][0]))"
   ]
  },
  {
   "cell_type": "code",
   "execution_count": null,
   "metadata": {
    "scrolled": true
   },
   "outputs": [],
   "source": [
    "\n",
    "predictions = reg.predict(X)\n",
    "\n",
    "# create the scatter plot again\n",
    "plt.figure(figsize=(16, 8))\n",
    "plt.scatter(\n",
    "    data[greScoreColumn],\n",
    "    data[chanceOfAdmitColumn],\n",
    "    c='black'\n",
    ")\n",
    "\n",
    "# add the best fit line ontop of the scatter plot\n",
    "\n",
    "plt.plot(\n",
    "    data[greScoreColumn],\n",
    "    predictions,\n",
    "    c='blue',\n",
    "    linewidth=2\n",
    ")\n",
    "plt.xlabel(\"GRE Score\")\n",
    "plt.ylabel(\"Chance of Admission)\")\n",
    "plt.show()"
   ]
  },
  {
   "cell_type": "code",
   "execution_count": null,
   "metadata": {},
   "outputs": [],
   "source": [
    "# print summary about the linear regression relationship. \n",
    "\n",
    "X = data[greScoreColumn]\n",
    "y = data[chanceOfAdmitColumn]\n",
    "X2 = sm.add_constant(X)\n",
    "est = sm.OLS(y, X2)\n",
    "est2 = est.fit()\n",
    "print(est2.summary())"
   ]
  },
  {
   "cell_type": "code",
   "execution_count": null,
   "metadata": {},
   "outputs": [],
   "source": [
    "#Label 1 if x>0.80 and 0 if x<=0.80\n",
    "\n",
    "# we are adding a new column to the data set\n",
    "admitThreshholdColumn = 'ChanceAdmit'\n",
    "data[admitThreshholdColumn] = data[chanceOfAdmitColumn].map(lambda x : 1 if x>0.80 else 0)\n",
    "\n",
    "plt.figure(figsize=(16, 8))\n",
    "plt.scatter(\n",
    "    data[greScoreColumn],\n",
    "    data[chanceOfAdmitColumn],\n",
    "    c=data[admitThreshholdColumn]\n",
    ")\n",
    "plt.xlabel(\"Chance of Admission\")\n",
    "plt.ylabel(\"GRE Score\")\n",
    "plt.show()"
   ]
  },
  {
   "cell_type": "code",
   "execution_count": null,
   "metadata": {},
   "outputs": [],
   "source": [
    "# multiple linear regression\n",
    "\n",
    "Xs = data.drop(['Serial No.','Chance of Admit ', 'ChanceAdmit'], axis=1)\n",
    "y = data[chanceOfAdmitColumn].values.reshape(-1,1)\n",
    "reg = LinearRegression()\n",
    "reg.fit(Xs, y)\n",
    "print(\"The linear model is: Y = {:.5} + {:.5}*GRE Score + {:.5}*TOEFL Score + {:.5}*University Rating + + {:.5}*SOP + {:.5}*LOR + {:.5}*CGPA + {:.5}*Research\".format(reg.intercept_[0], reg.coef_[0][0], reg.coef_[0][1], reg.coef_[0][2], reg.coef_[0][3], reg.coef_[0][4], reg.coef_[0][5], reg.coef_[0][6]))"
   ]
  },
  {
   "cell_type": "markdown",
   "metadata": {},
   "source": [
    "### Determine if there is a strong correlation with the variables\n"
   ]
  },
  {
   "cell_type": "code",
   "execution_count": null,
   "metadata": {},
   "outputs": [],
   "source": [
    "X = np.column_stack((data['GRE Score'], data['TOEFL Score'],  data['University Rating'], data['SOP'], data['LOR '], data['CGPA'], data['Research']))\n",
    "y = data['Chance of Admit ']\n",
    "X2 = sm.add_constant(X)\n",
    "est = sm.OLS(y, X2)\n",
    "est2 = est.fit()\n",
    "print(est2.summary())"
   ]
  },
  {
   "cell_type": "markdown",
   "metadata": {},
   "source": [
    "### Results of the summary\n",
    "\n",
    "R-squared value is 0.803 which indicates a very high relationship\n",
    "F-statistic value is 228.9 which is much higher than 1, indicating a strong correlation\n",
    "\n",
    "we can look at our P values to determine which variables were significant or not to our model. it appears that the only value that was high was the variable corresponding with x6. \n",
    "\n",
    "x3 and x4 have high P values. this indicates that they are not strongly correlated with our Y value, chance of admission."
   ]
  },
  {
   "cell_type": "markdown",
   "metadata": {},
   "source": [
    "# Additional Questions that can be answered via analysis\n",
    "Does GRE score influence the chance of getting admitted ? ...Yes!\n",
    "\n",
    "How does the University Rating improve the chance of getting admitted ?\n",
    "Does CGPA influence my University Rating?\n",
    "Does TOEFL score influence the chance of getting admitted ?"
   ]
  },
  {
   "cell_type": "code",
   "execution_count": null,
   "metadata": {},
   "outputs": [],
   "source": []
  }
 ],
 "metadata": {
  "kernelspec": {
   "display_name": "Python 3",
   "language": "python",
   "name": "python3"
  },
  "language_info": {
   "codemirror_mode": {
    "name": "ipython",
    "version": 3
   },
   "file_extension": ".py",
   "mimetype": "text/x-python",
   "name": "python",
   "nbconvert_exporter": "python",
   "pygments_lexer": "ipython3",
   "version": "3.7.4"
  }
 },
 "nbformat": 4,
 "nbformat_minor": 2
}
